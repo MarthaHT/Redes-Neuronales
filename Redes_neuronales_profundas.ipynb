{
  "nbformat": 4,
  "nbformat_minor": 0,
  "metadata": {
    "colab": {
      "name": "Redes neuronales profundas",
      "provenance": [],
      "collapsed_sections": [],
      "toc_visible": true,
      "include_colab_link": true
    },
    "kernelspec": {
      "name": "python3",
      "display_name": "Python 3"
    },
    "accelerator": "GPU"
  },
  "cells": [
    {
      "cell_type": "markdown",
      "metadata": {
        "id": "view-in-github",
        "colab_type": "text"
      },
      "source": [
        "<a href=\"https://colab.research.google.com/github/MarthaHT/Redes-Neuronales/blob/main/Redes_neuronales_profundas.ipynb\" target=\"_parent\"><img src=\"https://colab.research.google.com/assets/colab-badge.svg\" alt=\"Open In Colab\"/></a>"
      ]
    },
    {
      "cell_type": "markdown",
      "metadata": {
        "id": "R6jO_1gISKxk"
      },
      "source": [
        "# Redes neuronales profundas\n",
        "\n",
        "> **Rodolfo Ferro** <br>\n",
        "> Google Dev Expert en ML, 2020.\n",
        ">\n",
        "> _Redes:_\n",
        "> - GitHub - [RodolfoFerro](https://github.com/RodolfoFerro)\n",
        "> - Twitter - [@FerroRodolfo](https://twitter.com/FerroRodolfo)\n",
        "> - Instagram - [@rodo_ferro](https://instagram.com/rodo_ferro)\n",
        "\n",
        "## Contenidos\n",
        "\n",
        "#### **Sección IV**\n",
        "1. **Código:** El dataset de modas\n",
        "2. **Código:** Preparación de datos\n",
        "3. **Código:** Creación del modelo\n",
        "4. **Código:** Entrenamiento del modelo\n",
        "5. **Código:** Evaluación del modelo\n",
        "6. **Código:** Predicción\n"
      ]
    },
    {
      "cell_type": "markdown",
      "metadata": {
        "id": "xNVG2PnSEtQN"
      },
      "source": [
        "## **Sección IV**"
      ]
    },
    {
      "cell_type": "markdown",
      "metadata": {
        "id": "1Z7JrTygMDSx"
      },
      "source": [
        "### El dataset de modas\n",
        "\n",
        "Comencemos importando TensorFlow."
      ]
    },
    {
      "cell_type": "code",
      "metadata": {
        "id": "LPB4nBh8MFDm",
        "colab": {
          "base_uri": "https://localhost:8080/"
        },
        "outputId": "974b5011-a8bf-45c8-a4ee-1d1098189133"
      },
      "source": [
        "import tensorflow as tf\n",
        "print(tf.__version__)"
      ],
      "execution_count": 34,
      "outputs": [
        {
          "output_type": "stream",
          "text": [
            "2.5.0\n"
          ],
          "name": "stdout"
        }
      ]
    },
    {
      "cell_type": "markdown",
      "metadata": {
        "id": "p65n1ePSMYm8"
      },
      "source": [
        "Los datos de Fashion MNIST están disponibles directamente en la API de conjuntos de datos de `tf.keras`. Los cargas así:"
      ]
    },
    {
      "cell_type": "code",
      "metadata": {
        "id": "Wgked3UaMJW4"
      },
      "source": [
        "fashion_mnist = tf.keras.datasets.fashion_mnist"
      ],
      "execution_count": 35,
      "outputs": []
    },
    {
      "cell_type": "markdown",
      "metadata": {
        "id": "UsEGBNwrMSac"
      },
      "source": [
        "Llamar a `load_data` en este objeto nos dará dos conjuntos con los valores de entrenamiento y prueba para los gráficos que contienen las prendas y sus etiquetas."
      ]
    },
    {
      "cell_type": "code",
      "metadata": {
        "id": "1XdP6qF1MLR6"
      },
      "source": [
        "(training_images, training_labels), (test_images, test_labels) = fashion_mnist.load_data()"
      ],
      "execution_count": 36,
      "outputs": []
    },
    {
      "cell_type": "markdown",
      "metadata": {
        "id": "6c0eSrlvMs6H"
      },
      "source": [
        "¿Cómo se ven estos valores?\n",
        "\n",
        "Imprimamos una imagen de entrenamiento y una etiqueta de entrenamiento para ver."
      ]
    },
    {
      "cell_type": "code",
      "metadata": {
        "id": "3CdTltfNM0qF",
        "colab": {
          "base_uri": "https://localhost:8080/",
          "height": 761
        },
        "outputId": "3d58496a-2794-4de2-aa0d-7f87b81b2e13"
      },
      "source": [
        "import numpy as np\n",
        "import matplotlib.pyplot as plt\n",
        "np.set_printoptions(linewidth=200)\n",
        "\n",
        "\n",
        "# Set index of image to be seen\n",
        "img_index = 360\n",
        "\n",
        "# Plot image\n",
        "plt.imshow(training_images[img_index], cmap='gray')\n",
        "plt.axis(False)\n",
        "\n",
        "print(\"Label:\", training_labels[img_index])\n",
        "print(\"Matrix:\", training_images[img_index])"
      ],
      "execution_count": 37,
      "outputs": [
        {
          "output_type": "stream",
          "text": [
            "Label: 9\n",
            "Matrix: [[  0   0   0   0   0   0   0   0   0   0   0   0   0   0   0   0   0   0   0   0   0   0   0   0   0   0   0   0]\n",
            " [  0   0   0   0   0   0   0   0   0   0   0   0   0   0   0   0   0   0   0   0   0   0   0   0   0   0   0   0]\n",
            " [  0   0   0   0   0   0   0   0   0   0   0   0   0   0   0   0   0   0   0   0   0   0   0   0   0   0   0   0]\n",
            " [  0   0   0   0   0   0   0   0   0   0   0   0   0   0   0   0   0   0   0   0   0   0   0   0   0   0   0   0]\n",
            " [  0   0   0   0   0   0   0   0   0   0   0   0   0   0   0   0   0   0   0   0   0   0   0   0   0   0   0   0]\n",
            " [  0   0   0   0   0   0   0   0   0   0   0   0   0   0   0   0   0   0   0   0   0   0   0   0   0   0   0   0]\n",
            " [  0   0   0   0   0   0   0   0   0   0   0   0   0   0   0   0   0   0   0   0   0   0   0   0   0   0   0   0]\n",
            " [  0   0   0   0   0   0   0   0   0   3   0   0   1   0   0   2   0   0   0   0   0   2   0   0  14 199  87   0]\n",
            " [  0   0   0   0   0   0   0   0   1   3   0   0   0   0   0   0   0   5   0   4   0   0   0 129 217 234 214   0]\n",
            " [  0   0   0   0   0   0   0   0   0   0   2   0  10 238 138  22   0   0   0   0   0  82 230 254 213 213 255  15]\n",
            " [  0   0   0   0   0   0   0   0   0   0   0   0 165 212 225 230 212 114  53  92 209 254 216 203 214 216 254  63]\n",
            " [  0   0   0   0   0   0   0   0   1   0   0 117 217 209 213 213 224 254 254 254 231 200 205 215 216 210 253 105]\n",
            " [  0   0   0   0   0   0   0   0   0   0  83 253 210 217 216 222 212 203 211 204 200 216 213 218 225 218 255 100]\n",
            " [  0   0   0   0   0   0   0   0   0  51 253 210 214 205 209 215 212 212 215 209 211 204 204 218 215 222 255  42]\n",
            " [  0   0   1   3   0   5   0   0  34 253 216 200 200 206 216 212 204 210 215 206 215 250 255 247 218 225 228   0]\n",
            " [  0   0   0   0   0   0   0  84 234 196 185 197 201 209 217 214 215 216 218 232 255 191 119 167 224 239 140   0]\n",
            " [  0   0   0   1  12  88 209 245 204 189 206 209 213 218 210 219 213 231 255 184  13   0   0   0 182 247  40   0]\n",
            " [ 13 142 172 187 202 214 208 201 208 214 212 212 211 208 218 216 237 246  58   0   0   0   0   0 163 234   1   0]\n",
            " [141 242 216 202 200 198 195 203 204 205 208 211 212 215 214 237 197   0   0   0   0   0   0   0 170 211   0   0]\n",
            " [  0  96 150 193 213 223 219 212 208 205 205 208 215 219 244 187   0   0   2   0   0   0   0   0 177 189   0   0]\n",
            " [  0   0   0   0  21  77 148 196 228 248 254 255 255 255 151   0   0   2   0   0   0   1   0   0 199 178   0   0]\n",
            " [  0   1   0   0   0   0   0   0   0  19  40  59  64  28   0   0   0   0   0   0   0   0   0   0 130  95   0   0]\n",
            " [  0   0   0   0   0   0   0   0   0   0   0   0   0   0   0   0   0   0   0   0   0   0   0   0   0   0   0   0]\n",
            " [  0   0   0   0   0   0   0   0   0   0   0   0   0   0   0   0   0   0   0   0   0   0   0   0   0   0   0   0]\n",
            " [  0   0   0   0   0   0   0   0   0   0   0   0   0   0   0   0   0   0   0   0   0   0   0   0   0   0   0   0]\n",
            " [  0   0   0   0   0   0   0   0   0   0   0   0   0   0   0   0   0   0   0   0   0   0   0   0   0   0   0   0]\n",
            " [  0   0   0   0   0   0   0   0   0   0   0   0   0   0   0   0   0   0   0   0   0   0   0   0   0   0   0   0]\n",
            " [  0   0   0   0   0   0   0   0   0   0   0   0   0   0   0   0   0   0   0   0   0   0   0   0   0   0   0   0]]\n"
          ],
          "name": "stdout"
        },
        {
          "output_type": "display_data",
          "data": {
            "image/png": "[encoded data removed]",
            "text/plain": [
              "<Figure size 432x288 with 1 Axes>"
            ]
          },
          "metadata": {
            "tags": [],
            "needs_background": "light"
          }
        }
      ]
    },
    {
      "cell_type": "markdown",
      "metadata": {
        "id": "CxfNdPU3NQge"
      },
      "source": [
        "### Preparación de los datos\n",
        "\n",
        "Notarás que todos los valores están entre 0 y 255. Si estamos entrenando una red neuronal, por varias razones es más fácil si transformamos los valores para tratar todos con valores entre 0 y 1. Este proceso se llama **normalización**."
      ]
    },
    {
      "cell_type": "code",
      "metadata": {
        "id": "vWoPQWCGNdnB"
      },
      "source": [
        "training_images  = training_images / 255.0\n",
        "test_images = test_images / 255.0"
      ],
      "execution_count": 38,
      "outputs": []
    },
    {
      "cell_type": "code",
      "metadata": {
        "colab": {
          "base_uri": "https://localhost:8080/",
          "height": 1000
        },
        "id": "GoIJyjLZKDQb",
        "outputId": "936a4c26-f093-4d38-8ea4-09a65e435f3c"
      },
      "source": [
        "import numpy as np\n",
        "import matplotlib.pyplot as plt\n",
        "np.set_printoptions(linewidth=200)\n",
        "\n",
        "\n",
        "# Set index of image to be seen\n",
        "img_index = 5999\n",
        "\n",
        "# Plot image\n",
        "plt.imshow(training_images[img_index], cmap='gray')\n",
        "plt.axis(False)\n",
        "\n",
        "print(\"Label:\", training_labels[img_index])\n",
        "print(\"Matrix:\", training_images[img_index])"
      ],
      "execution_count": 39,
      "outputs": [
        {
          "output_type": "stream",
          "text": [
            "Label: 0\n",
            "Matrix: [[0.         0.         0.         0.         0.         0.         0.         0.         0.         0.         0.47058824 0.21176471 0.         0.         0.         0.         0.05098039\n",
            "  0.48627451 0.         0.         0.         0.         0.00784314 0.         0.         0.         0.         0.        ]\n",
            " [0.         0.         0.         0.         0.         0.         0.         0.25098039 0.67843137 0.81176471 0.85490196 0.80784314 0.90980392 0.72156863 0.65882353 0.79215686 0.80392157\n",
            "  0.85490196 0.79215686 0.49411765 0.04705882 0.         0.         0.00392157 0.         0.         0.         0.        ]\n",
            " [0.         0.         0.         0.         0.         0.21960784 0.78039216 0.8745098  0.87058824 0.81176471 0.80392157 0.82745098 0.8745098  0.89019608 0.90588235 0.90196078 0.83921569\n",
            "  0.79607843 0.81960784 0.8627451  0.83529412 0.64313725 0.         0.         0.00784314 0.         0.         0.        ]\n",
            " [0.         0.         0.         0.         0.         0.74901961 0.85882353 0.78431373 0.78431373 0.80784314 0.80784314 0.80392157 0.80784314 0.80784314 0.79607843 0.79215686 0.78823529\n",
            "  0.79215686 0.78823529 0.76470588 0.77647059 0.87058824 0.58431373 0.         0.         0.         0.         0.        ]\n",
            " [0.         0.         0.         0.         0.28235294 0.87843137 0.78823529 0.80392157 0.81568627 0.79215686 0.8        0.8        0.80392157 0.80392157 0.81568627 0.80392157 0.75294118\n",
            "  0.7372549  0.79607843 0.79215686 0.78431373 0.74117647 0.77647059 0.09019608 0.         0.         0.         0.        ]\n",
            " [0.         0.         0.         0.         0.62745098 0.86666667 0.82745098 0.78431373 0.8        0.79607843 0.8        0.79607843 0.78823529 0.79215686 0.78823529 0.79607843 0.78823529\n",
            "  0.7254902  0.79607843 0.79607843 0.7372549  0.76078431 0.81176471 0.49411765 0.         0.         0.         0.        ]\n",
            " [0.         0.         0.         0.         0.89019608 0.83137255 0.87843137 0.80392157 0.78823529 0.8        0.79607843 0.79215686 0.79215686 0.78823529 0.78823529 0.78431373 0.78823529\n",
            "  0.76470588 0.77647059 0.74901961 0.71372549 0.78039216 0.79215686 0.79215686 0.         0.         0.         0.        ]\n",
            " [0.         0.         0.         0.07843137 0.81568627 0.80392157 0.87843137 0.85882353 0.78823529 0.78431373 0.79215686 0.79215686 0.78823529 0.78823529 0.78039216 0.77647059 0.78039216\n",
            "  0.78039216 0.77254902 0.71764706 0.76470588 0.82352941 0.74901961 0.74117647 0.04313725 0.         0.         0.        ]\n",
            " [0.         0.         0.         0.54117647 0.8745098  0.78823529 0.85490196 0.89803922 0.84705882 0.79215686 0.79215686 0.78431373 0.78431373 0.77254902 0.77254902 0.78039216 0.77254902\n",
            "  0.76078431 0.72941176 0.69803922 0.83921569 0.80392157 0.70588235 0.75686275 0.32941176 0.         0.         0.        ]\n",
            " [0.         0.         0.         0.40784314 0.70980392 0.83137255 0.91764706 0.99607843 0.85882353 0.81568627 0.8        0.78823529 0.78823529 0.78039216 0.78039216 0.78039216 0.77254902\n",
            "  0.77254902 0.75294118 0.74901961 0.98039216 0.8627451  0.78039216 0.77254902 0.55294118 0.         0.         0.        ]\n",
            " [0.         0.         0.         0.         0.         0.15686275 0.51372549 0.75686275 0.85882353 0.81176471 0.80392157 0.79215686 0.79215686 0.78039216 0.78039216 0.78039216 0.75686275\n",
            "  0.77254902 0.7372549  0.78431373 0.68235294 0.43529412 0.21960784 0.05882353 0.         0.         0.         0.        ]\n",
            " [0.         0.         0.         0.         0.         0.         0.         0.00784314 0.97254902 0.81568627 0.79215686 0.78039216 0.78431373 0.77254902 0.77254902 0.78431373 0.76078431\n",
            "  0.73333333 0.75294118 0.72941176 0.         0.         0.         0.         0.         0.         0.         0.        ]\n",
            " [0.         0.         0.         0.         0.         0.00784314 0.         0.         0.89411765 0.85098039 0.78039216 0.78431373 0.78823529 0.79215686 0.77647059 0.77647059 0.79607843\n",
            "  0.7372549  0.78431373 0.63529412 0.         0.         0.00784314 0.01176471 0.00392157 0.         0.         0.        ]\n",
            " [0.         0.         0.         0.         0.         0.         0.         0.         0.78431373 0.85490196 0.79607843 0.78431373 0.77647059 0.78823529 0.78039216 0.77254902 0.79607843\n",
            "  0.7372549  0.79607843 0.53333333 0.         0.         0.         0.         0.         0.         0.         0.        ]\n",
            " [0.         0.         0.         0.         0.         0.         0.         0.         0.70980392 0.8627451  0.79215686 0.78431373 0.78431373 0.78823529 0.78431373 0.76470588 0.78431373\n",
            "  0.74901961 0.79215686 0.33333333 0.         0.00392157 0.         0.         0.         0.         0.         0.        ]\n",
            " [0.         0.         0.         0.         0.         0.         0.         0.         0.65882353 0.8627451  0.78431373 0.78431373 0.78823529 0.78823529 0.78039216 0.77647059 0.76470588\n",
            "  0.75686275 0.77647059 0.32156863 0.         0.00392157 0.         0.         0.         0.         0.         0.        ]\n",
            " [0.         0.         0.         0.         0.         0.         0.         0.         0.61568627 0.8627451  0.78039216 0.78431373 0.78039216 0.78039216 0.76470588 0.78431373 0.74901961\n",
            "  0.76078431 0.78039216 0.41568627 0.         0.02745098 0.         0.         0.         0.         0.         0.        ]\n",
            " [0.         0.         0.         0.         0.         0.         0.         0.         0.64705882 0.85098039 0.78039216 0.78431373 0.78431373 0.78039216 0.76078431 0.78039216 0.75294118\n",
            "  0.75686275 0.79607843 0.42745098 0.         0.00392157 0.         0.         0.         0.         0.         0.        ]\n",
            " [0.         0.         0.         0.         0.         0.00392157 0.         0.         0.68627451 0.82352941 0.78431373 0.78431373 0.78431373 0.78431373 0.75294118 0.77647059 0.76470588\n",
            "  0.7372549  0.81568627 0.49019608 0.         0.         0.         0.         0.         0.         0.         0.        ]\n",
            " [0.         0.         0.         0.         0.         0.00784314 0.         0.         0.77254902 0.80392157 0.78823529 0.78039216 0.77254902 0.76078431 0.75294118 0.77647059 0.76470588\n",
            "  0.72941176 0.80392157 0.5254902  0.         0.         0.         0.         0.         0.         0.         0.        ]\n",
            " [0.         0.         0.         0.         0.         0.01568627 0.         0.0627451  0.80784314 0.78823529 0.78823529 0.78039216 0.77254902 0.76078431 0.74901961 0.78039216 0.77254902\n",
            "  0.74901961 0.78039216 0.62745098 0.         0.         0.         0.         0.         0.         0.         0.        ]\n",
            " [0.         0.         0.         0.         0.         0.01960784 0.         0.12156863 0.81960784 0.76470588 0.78431373 0.77647059 0.77254902 0.76078431 0.72156863 0.76078431 0.75686275\n",
            "  0.76470588 0.75294118 0.65490196 0.         0.         0.00784314 0.         0.         0.         0.         0.        ]\n",
            " [0.         0.         0.         0.         0.         0.01960784 0.         0.1254902  0.81176471 0.78431373 0.77254902 0.77254902 0.77254902 0.77254902 0.71764706 0.77254902 0.76470588\n",
            "  0.76470588 0.74509804 0.72156863 0.01960784 0.         0.01176471 0.         0.         0.         0.         0.        ]\n",
            " [0.         0.         0.         0.         0.         0.02745098 0.         0.26666667 0.82352941 0.77254902 0.77254902 0.76078431 0.77647059 0.78039216 0.73333333 0.78039216 0.78039216\n",
            "  0.76470588 0.74509804 0.74509804 0.07843137 0.         0.01568627 0.         0.         0.         0.         0.        ]\n",
            " [0.         0.         0.         0.         0.         0.02745098 0.         0.34901961 0.82352941 0.76078431 0.78039216 0.76470588 0.78039216 0.79607843 0.76470588 0.78431373 0.78431373\n",
            "  0.77254902 0.75294118 0.74509804 0.08627451 0.         0.01568627 0.         0.         0.         0.         0.        ]\n",
            " [0.         0.         0.         0.         0.         0.02745098 0.         0.45490196 0.81176471 0.75686275 0.76470588 0.74901961 0.76470588 0.76078431 0.7372549  0.74509804 0.77254902\n",
            "  0.77254902 0.74509804 0.75294118 0.18431373 0.         0.01960784 0.         0.         0.         0.         0.        ]\n",
            " [0.         0.         0.         0.         0.         0.01960784 0.         0.6745098  0.88235294 0.81176471 0.81176471 0.88235294 0.88235294 0.88235294 0.87843137 0.88235294 0.89803922\n",
            "  0.82745098 0.80784314 0.82352941 0.34509804 0.         0.02352941 0.         0.         0.         0.         0.        ]\n",
            " [0.         0.         0.         0.         0.         0.00784314 0.         0.18823529 0.36862745 0.40392157 0.46666667 0.48235294 0.51764706 0.50196078 0.47843137 0.46666667 0.44705882\n",
            "  0.38039216 0.34509804 0.4        0.10588235 0.         0.01568627 0.         0.         0.         0.         0.        ]]\n"
          ],
          "name": "stdout"
        },
        {
          "output_type": "display_data",
          "data": {
            "image/png": "[encoded data removed]",
            "text/plain": [
              "<Figure size 432x288 with 1 Axes>"
            ]
          },
          "metadata": {
            "tags": [],
            "needs_background": "light"
          }
        }
      ]
    },
    {
      "cell_type": "code",
      "metadata": {
        "colab": {
          "base_uri": "https://localhost:8080/"
        },
        "id": "wHdn6poSOZxp",
        "outputId": "07879fc0-bf03-42c3-dd6f-584550c92e30"
      },
      "source": [
        "training_images[0].shape"
      ],
      "execution_count": 40,
      "outputs": [
        {
          "output_type": "execute_result",
          "data": {
            "text/plain": [
              "(28, 28)"
            ]
          },
          "metadata": {
            "tags": []
          },
          "execution_count": 40
        }
      ]
    },
    {
      "cell_type": "markdown",
      "metadata": {
        "id": "bTaT1RjyNjqV"
      },
      "source": [
        "### Creación del modelo\n",
        "\n"
      ]
    },
    {
      "cell_type": "code",
      "metadata": {
        "id": "g-myY9JWNvtY"
      },
      "source": [
        "model = tf.keras.models.Sequential([\n",
        "            tf.keras.layers.Flatten(), \n",
        "            tf.keras.layers.Dense(256, activation=tf.nn.relu),\n",
        "            tf.keras.layers.Dense(128, activation=tf.nn.relu),\n",
        "            tf.keras.layers.Dense(64, activation=tf.nn.relu),\n",
        "            tf.keras.layers.Dense(32, activation=tf.nn.relu),\n",
        "            tf.keras.layers.Dense(16, activation=tf.nn.relu),\n",
        "            tf.keras.layers.Dense(10, activation=tf.nn.softmax)\n",
        "        ])"
      ],
      "execution_count": 41,
      "outputs": []
    },
    {
      "cell_type": "markdown",
      "metadata": {
        "id": "dwkxtrHdNvHg"
      },
      "source": [
        "### Entrenamiento del modelo"
      ]
    },
    {
      "cell_type": "code",
      "metadata": {
        "id": "F9LHH0f6N5Hi"
      },
      "source": [
        "model.compile(\n",
        "    optimizer=tf.optimizers.Adam(),\n",
        "    loss='sparse_categorical_crossentropy',\n",
        "    metrics=['accuracy']\n",
        ")"
      ],
      "execution_count": 42,
      "outputs": []
    },
    {
      "cell_type": "code",
      "metadata": {
        "id": "ybq9AzJiN8ZV",
        "colab": {
          "base_uri": "https://localhost:8080/"
        },
        "outputId": "3a89dcff-7b05-419d-fe8d-168da14a40a0"
      },
      "source": [
        "model.fit(training_images, training_labels, epochs=15)"
      ],
      "execution_count": 43,
      "outputs": [
        {
          "output_type": "stream",
          "text": [
            "Epoch 1/15\n",
            "1875/1875 [==============================] - 4s 2ms/step - loss: 0.5463 - accuracy: 0.8007\n",
            "Epoch 2/15\n",
            "1875/1875 [==============================] - 4s 2ms/step - loss: 0.3830 - accuracy: 0.8598\n",
            "Epoch 3/15\n",
            "1875/1875 [==============================] - 4s 2ms/step - loss: 0.3436 - accuracy: 0.8732\n",
            "Epoch 4/15\n",
            "1875/1875 [==============================] - 4s 2ms/step - loss: 0.3196 - accuracy: 0.8817\n",
            "Epoch 5/15\n",
            "1875/1875 [==============================] - 4s 2ms/step - loss: 0.2987 - accuracy: 0.8880\n",
            "Epoch 6/15\n",
            "1875/1875 [==============================] - 4s 2ms/step - loss: 0.2850 - accuracy: 0.8937\n",
            "Epoch 7/15\n",
            "1875/1875 [==============================] - 4s 2ms/step - loss: 0.2713 - accuracy: 0.8984\n",
            "Epoch 8/15\n",
            "1875/1875 [==============================] - 4s 2ms/step - loss: 0.2602 - accuracy: 0.9024\n",
            "Epoch 9/15\n",
            "1875/1875 [==============================] - 4s 2ms/step - loss: 0.2524 - accuracy: 0.9061\n",
            "Epoch 10/15\n",
            "1875/1875 [==============================] - 4s 2ms/step - loss: 0.2426 - accuracy: 0.9086\n",
            "Epoch 11/15\n",
            "1875/1875 [==============================] - 4s 2ms/step - loss: 0.2338 - accuracy: 0.9123\n",
            "Epoch 12/15\n",
            "1875/1875 [==============================] - 4s 2ms/step - loss: 0.2281 - accuracy: 0.9140\n",
            "Epoch 13/15\n",
            "1875/1875 [==============================] - 4s 2ms/step - loss: 0.2208 - accuracy: 0.9166\n",
            "Epoch 14/15\n",
            "1875/1875 [==============================] - 4s 2ms/step - loss: 0.2152 - accuracy: 0.9185\n",
            "Epoch 15/15\n",
            "1875/1875 [==============================] - 4s 2ms/step - loss: 0.2079 - accuracy: 0.9211\n"
          ],
          "name": "stdout"
        },
        {
          "output_type": "execute_result",
          "data": {
            "text/plain": [
              "<tensorflow.python.keras.callbacks.History at 0x7fa81e0a0d50>"
            ]
          },
          "metadata": {
            "tags": []
          },
          "execution_count": 43
        }
      ]
    },
    {
      "cell_type": "markdown",
      "metadata": {
        "id": "cH9mfZMTN8_H"
      },
      "source": [
        "### Evaluación del modelo"
      ]
    },
    {
      "cell_type": "code",
      "metadata": {
        "id": "rHCV5BrAN-pq",
        "colab": {
          "base_uri": "https://localhost:8080/"
        },
        "outputId": "b8d5f255-560a-4cd4-aa4a-67bc85afbac5"
      },
      "source": [
        "model.evaluate(test_images, test_labels)"
      ],
      "execution_count": 44,
      "outputs": [
        {
          "output_type": "stream",
          "text": [
            "313/313 [==============================] - 1s 2ms/step - loss: 0.3588 - accuracy: 0.8925\n"
          ],
          "name": "stdout"
        },
        {
          "output_type": "execute_result",
          "data": {
            "text/plain": [
              "[0.3587801158428192, 0.8924999833106995]"
            ]
          },
          "metadata": {
            "tags": []
          },
          "execution_count": 44
        }
      ]
    },
    {
      "cell_type": "markdown",
      "metadata": {
        "id": "w-hQX4NNOd_D"
      },
      "source": [
        "### Predicción\n"
      ]
    },
    {
      "cell_type": "code",
      "metadata": {
        "id": "GaDFuXyROfZY",
        "colab": {
          "base_uri": "https://localhost:8080/",
          "height": 282
        },
        "outputId": "46f40b27-da3c-4014-e86a-3c641d59c6be"
      },
      "source": [
        "import random\n",
        "test_index =random.randint(0, 10000-1)\n",
        "\n",
        "plt.imshow(test_images[test_index], cmap='gray')\n",
        "plt.axis(False)\n",
        "\n",
        "print(\"Label:\", test_labels[test_index])\n",
        "input_image=np.reshape(test_images[test_index],(1,784))\n",
        "prediction = model.predict(np.expand_dims(input_image, axis=-1))\n",
        "print(\"Prediction:\", np.argmax(prediction))"
      ],
      "execution_count": 93,
      "outputs": [
        {
          "output_type": "stream",
          "text": [
            "Label: 3\n",
            "Prediction: 3\n"
          ],
          "name": "stdout"
        },
        {
          "output_type": "display_data",
          "data": {
            "image/png": "[encoded data removed]",
            "text/plain": [
              "<Figure size 432x288 with 1 Axes>"
            ]
          },
          "metadata": {
            "tags": [],
            "needs_background": "light"
          }
        }
      ]
    },
    {
      "cell_type": "code",
      "metadata": {
        "id": "46BEfIuSUvXh"
      },
      "source": [
        ""
      ],
      "execution_count": 88,
      "outputs": []
    }
  ]
}